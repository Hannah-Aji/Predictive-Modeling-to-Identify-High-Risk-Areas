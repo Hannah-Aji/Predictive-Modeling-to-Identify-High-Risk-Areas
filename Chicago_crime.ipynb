{
  "nbformat": 4,
  "nbformat_minor": 0,
  "metadata": {
    "colab": {
      "provenance": [],
      "toc_visible": true,
      "mount_file_id": "1pg-Hm6toHI4hewXuqP7PoTgGP8aTBi-B",
      "authorship_tag": "ABX9TyORLyTiq8guKg648qzizwhL",
      "include_colab_link": true
    },
    "kernelspec": {
      "name": "python3",
      "display_name": "Python 3"
    },
    "language_info": {
      "name": "python"
    }
  },
  "cells": [
    {
      "cell_type": "markdown",
      "metadata": {
        "id": "view-in-github",
        "colab_type": "text"
      },
      "source": [
        "<a href=\"https://colab.research.google.com/github/omo776/safeline/blob/main/Chicago_crime.ipynb\" target=\"_parent\"><img src=\"https://colab.research.google.com/assets/colab-badge.svg\" alt=\"Open In Colab\"/></a>"
      ]
    },
    {
      "cell_type": "markdown",
      "source": [
        "Analyzing Chicago Crime From 2023 to Present 2024 Using an Unsupervised Machine Learning Model."
      ],
      "metadata": {
        "id": "HbiCOEUZvt-N"
      }
    },
    {
      "cell_type": "code",
      "source": [
        "import pandas as pd\n",
        "import seaborn as sns\n",
        "import numpy as np\n",
        "import matplotlib.pyplot as plt\n"
      ],
      "metadata": {
        "id": "WtrE9hvRvGf3"
      },
      "execution_count": 3,
      "outputs": []
    },
    {
      "cell_type": "code",
      "source": [
        "from google.colab import drive\n",
        "drive.mount('/content/drive')"
      ],
      "metadata": {
        "colab": {
          "base_uri": "https://localhost:8080/"
        },
        "id": "nrg-TI93PHdD",
        "outputId": "6d351cb1-a1b5-4499-92dc-f2f901c1d157"
      },
      "execution_count": 27,
      "outputs": [
        {
          "output_type": "stream",
          "name": "stdout",
          "text": [
            "Drive already mounted at /content/drive; to attempt to forcibly remount, call drive.mount(\"/content/drive\", force_remount=True).\n"
          ]
        }
      ]
    },
    {
      "cell_type": "code",
      "source": [
        "try:\n",
        "    data = pd.read_csv('/content/drive/MyDrive/Crimes.csv', low_memory=False, on_bad_lines='warn')\n",
        "    data.info()\n",
        "except Exception as e:\n",
        "    print(f\"Error reading CSV file: {e}\")"
      ],
      "metadata": {
        "colab": {
          "base_uri": "https://localhost:8080/"
        },
        "id": "erXpX6ngv5BK",
        "outputId": "ddfeae3f-4977-434c-f53d-fbcc75953490"
      },
      "execution_count": 28,
      "outputs": [
        {
          "output_type": "stream",
          "name": "stdout",
          "text": [
            "<class 'pandas.core.frame.DataFrame'>\n",
            "RangeIndex: 5581 entries, 0 to 5580\n",
            "Data columns (total 17 columns):\n",
            " #   Column                  Non-Null Count  Dtype  \n",
            "---  ------                  --------------  -----  \n",
            " 0   CASE#                   5581 non-null   object \n",
            " 1   DATE  OF OCCURRENCE     5581 non-null   object \n",
            " 2   BLOCK                   5581 non-null   object \n",
            " 3    IUCR                   5581 non-null   object \n",
            " 4    PRIMARY DESCRIPTION    5581 non-null   object \n",
            " 5    SECONDARY DESCRIPTION  5581 non-null   object \n",
            " 6    LOCATION DESCRIPTION   5560 non-null   object \n",
            " 7   ARREST                  5580 non-null   object \n",
            " 8   DOMESTIC                5580 non-null   object \n",
            " 9   BEAT                    5580 non-null   float64\n",
            " 10  WARD                    5580 non-null   float64\n",
            " 11  FBI CD                  5580 non-null   object \n",
            " 12  X COORDINATE            5573 non-null   float64\n",
            " 13  Y COORDINATE            5573 non-null   float64\n",
            " 14  LATITUDE                5573 non-null   float64\n",
            " 15  LONGITUDE               5573 non-null   float64\n",
            " 16  LOCATION                5573 non-null   object \n",
            "dtypes: float64(6), object(11)\n",
            "memory usage: 741.4+ KB\n"
          ]
        }
      ]
    },
    {
      "cell_type": "markdown",
      "source": [
        "**Data Cleaning** starts here"
      ],
      "metadata": {
        "id": "m5RfPhjRzEwc"
      }
    },
    {
      "cell_type": "code",
      "source": [
        "# Cleaning the dataset\n",
        "# Removing null rows and unwanted columns\n",
        "\n",
        "data_mod = data.dropna()\n",
        "columns_to_drop = data.columns[[0, 3]].tolist() + data.columns[9:17].tolist() # Changed from 9:17 to 10:17\n",
        "data_mod = data.drop(columns=columns_to_drop)\n",
        "data_mod.info()\n"
      ],
      "metadata": {
        "colab": {
          "base_uri": "https://localhost:8080/"
        },
        "collapsed": true,
        "id": "yZxz1M_dqMuy",
        "outputId": "1dd046b4-9b2e-4cf7-9488-d761d73b691c"
      },
      "execution_count": 55,
      "outputs": [
        {
          "output_type": "stream",
          "name": "stdout",
          "text": [
            "<class 'pandas.core.frame.DataFrame'>\n",
            "RangeIndex: 5581 entries, 0 to 5580\n",
            "Data columns (total 7 columns):\n",
            " #   Column                  Non-Null Count  Dtype \n",
            "---  ------                  --------------  ----- \n",
            " 0   DATE  OF OCCURRENCE     5581 non-null   object\n",
            " 1   BLOCK                   5581 non-null   object\n",
            " 2    PRIMARY DESCRIPTION    5581 non-null   object\n",
            " 3    SECONDARY DESCRIPTION  5581 non-null   object\n",
            " 4    LOCATION DESCRIPTION   5560 non-null   object\n",
            " 5   ARREST                  5580 non-null   object\n",
            " 6   DOMESTIC                5580 non-null   object\n",
            "dtypes: object(7)\n",
            "memory usage: 305.3+ KB\n"
          ]
        }
      ]
    },
    {
      "cell_type": "code",
      "source": [
        "# Rename the columns to remove leading/trailing spaces\n",
        "data_mod = data_mod.rename(columns={\n",
        "    'DATE  OF OCCURRENCE': 'DATE OF OCCURRENCE',\n",
        "    'BLOCK': 'BLOCK',\n",
        "    ' PRIMARY DESCRIPTION': 'PRIMARY DESCRIPTION',\n",
        "    ' SECONDARY DESCRIPTION': 'SECONDARY DESCRIPTION',\n",
        "    ' LOCATION DESCRIPTION': 'LOCATION DESCRIPTION',\n",
        "    'ARREST': 'ARREST',\n",
        "    'DOMESTIC': 'DOMESTIC',\n",
        "})\n",
        "print(data_mod.columns)"
      ],
      "metadata": {
        "colab": {
          "base_uri": "https://localhost:8080/"
        },
        "id": "RFwypsAuuLPL",
        "outputId": "7863d2e8-30c1-47f6-e4b7-ed0c5d783868"
      },
      "execution_count": 56,
      "outputs": [
        {
          "output_type": "stream",
          "name": "stdout",
          "text": [
            "Index(['DATE OF OCCURRENCE', 'BLOCK', 'PRIMARY DESCRIPTION',\n",
            "       'SECONDARY DESCRIPTION', 'LOCATION DESCRIPTION', 'ARREST', 'DOMESTIC'],\n",
            "      dtype='object')\n"
          ]
        }
      ]
    },
    {
      "cell_type": "code",
      "source": [
        "# Convert the 'DATE OF OCCURRENCE' column to datetime format\n",
        "data_mod['DATE OF OCCURRENCE'] = pd.to_datetime(data_mod['DATE OF OCCURRENCE'], errors='coerce')"
      ],
      "metadata": {
        "colab": {
          "base_uri": "https://localhost:8080/"
        },
        "id": "sOk3z3ryQQ2Z",
        "outputId": "c2a4e56f-5b4c-478f-d739-65fb4380b0e5",
        "collapsed": true
      },
      "execution_count": 57,
      "outputs": [
        {
          "output_type": "stream",
          "name": "stderr",
          "text": [
            "<ipython-input-57-0bc4a23fb141>:2: UserWarning: Could not infer format, so each element will be parsed individually, falling back to `dateutil`. To ensure parsing is consistent and as-expected, please specify a format.\n",
            "  data_mod['DATE OF OCCURRENCE'] = pd.to_datetime(data_mod['DATE OF OCCURRENCE'], errors='coerce')\n"
          ]
        }
      ]
    },
    {
      "cell_type": "code",
      "source": [
        "# Drop any rows where the date conversion failed\n",
        "data_mod = data_mod.dropna(subset=['DATE OF OCCURRENCE'])"
      ],
      "metadata": {
        "id": "WDazN1zBu9dl"
      },
      "execution_count": 67,
      "outputs": []
    },
    {
      "cell_type": "code",
      "source": [
        "# Create additional time-based columns\n",
        "data_mod['Year'] = data_mod['DATE OF OCCURRENCE'].dt.year\n",
        "data_mod['Month'] = data_mod['DATE OF OCCURRENCE'].dt.month\n",
        "data_mod['Day'] = data_mod['DATE OF OCCURRENCE'].dt.day\n",
        "data_mod['Weekday'] = data_mod['DATE OF OCCURRENCE'].dt.weekday\n",
        "data_mod['Hour'] = data_mod['DATE OF OCCURRENCE'].dt.hour"
      ],
      "metadata": {
        "id": "-FZVZu5XvJk5"
      },
      "execution_count": 68,
      "outputs": []
    },
    {
      "cell_type": "code",
      "source": [
        "# Convert 'ARREST' and 'DOMESTIC' columns to boolean type for consistency\n",
        "data_mod['ARREST'] = data_mod['ARREST'].astype(bool)\n",
        "data_mod['DOMESTIC'] = data_mod['DOMESTIC'].astype(bool)"
      ],
      "metadata": {
        "id": "ds5Qf_SXvK6w"
      },
      "execution_count": 69,
      "outputs": []
    },
    {
      "cell_type": "code",
      "source": [
        "data_mod.head()\n",
        "data_mod.info()"
      ],
      "metadata": {
        "colab": {
          "base_uri": "https://localhost:8080/"
        },
        "id": "RB4kXhz5Qhm2",
        "outputId": "40b581c9-edde-4aeb-92ea-2b1ac63d36b4"
      },
      "execution_count": 70,
      "outputs": [
        {
          "output_type": "stream",
          "name": "stdout",
          "text": [
            "<class 'pandas.core.frame.DataFrame'>\n",
            "RangeIndex: 5581 entries, 0 to 5580\n",
            "Data columns (total 12 columns):\n",
            " #   Column                 Non-Null Count  Dtype         \n",
            "---  ------                 --------------  -----         \n",
            " 0   DATE OF OCCURRENCE     5581 non-null   datetime64[ns]\n",
            " 1   BLOCK                  5581 non-null   object        \n",
            " 2   PRIMARY DESCRIPTION    5581 non-null   object        \n",
            " 3   SECONDARY DESCRIPTION  5581 non-null   object        \n",
            " 4   LOCATION DESCRIPTION   5560 non-null   object        \n",
            " 5   ARREST                 5581 non-null   bool          \n",
            " 6   DOMESTIC               5581 non-null   bool          \n",
            " 7   Year                   5581 non-null   int32         \n",
            " 8   Month                  5581 non-null   int32         \n",
            " 9   Day                    5581 non-null   int32         \n",
            " 10  Weekday                5581 non-null   int32         \n",
            " 11  Hour                   5581 non-null   int32         \n",
            "dtypes: bool(2), datetime64[ns](1), int32(5), object(4)\n",
            "memory usage: 338.0+ KB\n"
          ]
        }
      ]
    },
    {
      "cell_type": "markdown",
      "source": [
        "Goals achieved with Data Cleaning Process\n",
        "\n",
        "    Loading the Dataset: The dataset was loaded into a pandas DataFrame from a CSV file. This dataset contains information about various crime incidents in Chicago.\n",
        "\n",
        "    Removing Null Rows and Unwanted Columns:\n",
        "        Null Rows: All rows with any missing values were removed using the dropna() method.\n",
        "        Unwanted Columns: The following columns were dropped as they were deemed unnecessary for the analysis:\n",
        "            CASE#\n",
        "            IUCR\n",
        "            BEAT\n",
        "            WARD\n",
        "            FBI CD\n",
        "            X COORDINATE\n",
        "            Y COORDINATE\n",
        "            LATITUDE\n",
        "            LONGITUDE\n",
        "            LOCATION\n",
        "\n",
        "    Renaming Columns:\n",
        "        The columns were renamed for consistency and ease of use. The columns with leading and trailing spaces in their names were corrected. The new column names are:\n",
        "            DATE OF OCCURRENCE\n",
        "            BLOCK\n",
        "            PRIMARY DESCRIPTION\n",
        "            SECONDARY DESCRIPTION\n",
        "            LOCATION DESCRIPTION\n",
        "            ARREST\n",
        "            DOMESTIC\n",
        "            \n",
        "\n",
        "    Converting Date Column to Datetime Format:\n",
        "        The DATE OF OCCURRENCE column was converted to a datetime format using pd.to_datetime(). This ensures that the date information can be used effectively for time-based analysis.\n",
        "\n",
        "Resulting DataFrame Information\n",
        "\n",
        "The resulting DataFrame after cleaning has the following structure:\n",
        "\n",
        "    Number of Rows: 5581\n",
        "    Number of Columns: 6\n",
        "\n",
        "The final columns in the DataFrame are:\n",
        "\n",
        "    DATE OF OCCURRENCE\n",
        "    BLOCK\n",
        "    PRIMARY DESCRIPTION\n",
        "    SECONDARY DESCRIPTION\n",
        "    LOCATION DESCRIPTION\n",
        "    ARREST\n",
        "    DOMESTIC\n",
        "    \n",
        "\n",
        "This cleaned dataset is now ready for further analysis, including time-based trends, location-based patterns, and predictive modeling."
      ],
      "metadata": {
        "id": "tamWwXaYx2i8"
      }
    },
    {
      "cell_type": "code",
      "source": [
        "%cd\n"
      ],
      "metadata": {
        "id": "AMqEO8N61WUr"
      },
      "execution_count": null,
      "outputs": []
    }
  ]
}